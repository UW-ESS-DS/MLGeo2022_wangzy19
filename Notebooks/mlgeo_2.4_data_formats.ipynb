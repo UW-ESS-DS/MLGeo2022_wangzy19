{
 "cells": [
  {
   "cell_type": "markdown",
   "metadata": {},
   "source": [
    "# Data Formats\n",
    "\n",
    "In this tutorial, we will cover several manipulations of data formats:\n",
    "- TIFF\n",
    "- NetCDF4\n",
    "- HDF5\n",
    "- Zarr\n",
    "- Pickle\n",
    "- JSON\n",
    "- CSV vs Parquet (practice again)"
   ]
  },
  {
   "cell_type": "code",
   "execution_count": 1,
   "metadata": {},
   "outputs": [
    {
     "ename": "ModuleNotFoundError",
     "evalue": "No module named 'wget'",
     "output_type": "error",
     "traceback": [
      "\u001b[0;31m---------------------------------------------------------------------------\u001b[0m",
      "\u001b[0;31mModuleNotFoundError\u001b[0m                       Traceback (most recent call last)",
      "Cell \u001b[0;32mIn [1], line 5\u001b[0m\n\u001b[1;32m      3\u001b[0m \u001b[39mimport\u001b[39;00m \u001b[39mrasterio\u001b[39;00m\n\u001b[1;32m      4\u001b[0m \u001b[39mimport\u001b[39;00m \u001b[39mnetCDF4\u001b[39;00m \u001b[39mas\u001b[39;00m \u001b[39mnc\u001b[39;00m\n\u001b[0;32m----> 5\u001b[0m \u001b[39mimport\u001b[39;00m \u001b[39mwget\u001b[39;00m\n",
      "\u001b[0;31mModuleNotFoundError\u001b[0m: No module named 'wget'"
     ]
    }
   ],
   "source": [
    "import requests, zipfile , os, io\n",
    "import folium\n",
    "import geopandas as gpd\n",
    "import matplotlib.pyplot as plt\n",
    "# import netCDF4 as nc\n",
    "import numpy as np\n",
    "import pandas as pd\n",
    "import pycrs\n",
    "import rasterio\n",
    "import h5py\n",
    "import rasterio\n",
    "import netCDF4 as nc\n",
    "import wget\n",
    "\n",
    "\n",
    "from folium.plugins import MarkerCluster\n",
    "from rasterio.mask import mask\n",
    "from rasterio.plot import show"
   ]
  },
  {
   "cell_type": "code",
   "execution_count": null,
   "metadata": {},
   "outputs": [],
   "source": []
  },
  {
   "cell_type": "markdown",
   "metadata": {},
   "source": [
    "## Raster data: rasterio\n",
    "\n",
    "Raster data is any pixelated (or gridded) data where each pixel is associated with a specific geographical location. The value of a pixel can be continuous (e.g. elevation) or categorical (e.g. land use).\n",
    "\n",
    "\n",
    "\n",
    "https://rasterio.readthedocs.io/en/latest/\n",
    "\n",
    "https://www.earthdatascience.org/courses/use-data-open-source-python/intro-raster-data-python/\n",
    "\n",
    "https://geohackweek.github.io/raster/\n",
    "\n",
    "We will download topography files from there (data saved onto a Dropbox folder)\n",
    "\n",
    "https://www.naturalearthdata.com/downloads/50m-raster-data/50m-cross-blend-hypso/\n",
    "\n"
   ]
  },
  {
   "cell_type": "code",
   "execution_count": null,
   "metadata": {},
   "outputs": [],
   "source": [
    "# Dowload the data using wget\n",
    "wget.download(\"https://www.dropbox.com/s/r75ecms0bvyqaca/HYP_50M_SR.zip?dl=0\")"
   ]
  },
  {
   "cell_type": "markdown",
   "metadata": {},
   "source": [
    "Unzip the file"
   ]
  },
  {
   "cell_type": "code",
   "execution_count": 5,
   "metadata": {},
   "outputs": [],
   "source": [
    "\n",
    "# url='https://www.naturalearthdata.com/http//www.naturalearthdata.com/download/50m/raster/HYP_50M_SR.zip'\n",
    "# s = requests.get(url) \n",
    "os.makedirs(\"./HYP_50M_SR/\",exist_ok=True)\n",
    "# wget.download(url,out=\"HYP_50M_SR\") # this does not work on the hub\n",
    "z = zipfile.ZipFile(\"HYP_50M_SR.zip\")\n",
    "z.extractall('./HYP_50M_SR/')"
   ]
  },
  {
   "cell_type": "code",
   "execution_count": 6,
   "metadata": {},
   "outputs": [],
   "source": [
    "elevation = rasterio.open('HYP_50M_SR/HYP_50M_SR.tif')"
   ]
  },
  {
   "cell_type": "code",
   "execution_count": 9,
   "metadata": {},
   "outputs": [
    {
     "name": "stdout",
     "output_type": "stream",
     "text": [
      "<open DatasetReader name='HYP_50M_SR/HYP_50M_SR.tif' mode='r'>\n"
     ]
    }
   ],
   "source": [
    "print(elevation)"
   ]
  },
  {
   "cell_type": "markdown",
   "metadata": {},
   "source": [
    "Let us have a look at the dimensions of the data:"
   ]
  },
  {
   "cell_type": "code",
   "execution_count": 7,
   "metadata": {},
   "outputs": [
    {
     "data": {
      "text/plain": [
       "5400"
      ]
     },
     "execution_count": 7,
     "metadata": {},
     "output_type": "execute_result"
    }
   ],
   "source": [
    "elevation.height"
   ]
  },
  {
   "cell_type": "code",
   "execution_count": 8,
   "metadata": {},
   "outputs": [
    {
     "data": {
      "text/plain": [
       "10800"
      ]
     },
     "execution_count": 8,
     "metadata": {},
     "output_type": "execute_result"
    }
   ],
   "source": [
    "elevation.width"
   ]
  },
  {
   "cell_type": "code",
   "execution_count": null,
   "metadata": {},
   "outputs": [],
   "source": [
    "elevation.indexes"
   ]
  },
  {
   "cell_type": "markdown",
   "metadata": {},
   "source": [
    "Can you guess on how to call the data types of the file entry?"
   ]
  },
  {
   "cell_type": "code",
   "execution_count": null,
   "metadata": {},
   "outputs": [],
   "source": [
    "# type below"
   ]
  },
  {
   "cell_type": "markdown",
   "metadata": {},
   "source": [
    "and at the boundaries of the dataset:"
   ]
  },
  {
   "cell_type": "code",
   "execution_count": null,
   "metadata": {},
   "outputs": [],
   "source": [
    "elevation.bounds"
   ]
  },
  {
   "cell_type": "code",
   "execution_count": null,
   "metadata": {},
   "outputs": [],
   "source": [
    "print(elevation.transform * (0, 0)) # North West corner\n",
    "print(elevation.transform * (elevation.width, elevation.height)) # South East corner"
   ]
  },
  {
   "cell_type": "markdown",
   "metadata": {},
   "source": [
    "Here is the projection used for the data:"
   ]
  },
  {
   "cell_type": "code",
   "execution_count": null,
   "metadata": {},
   "outputs": [],
   "source": [
    "elevation.crs"
   ]
  },
  {
   "cell_type": "markdown",
   "metadata": {},
   "source": [
    "How to interpret the data: There are three layers for the three colors red, green, and blue:"
   ]
  },
  {
   "cell_type": "code",
   "execution_count": null,
   "metadata": {},
   "outputs": [],
   "source": [
    "print(elevation.colorinterp[0])\n",
    "print(elevation.colorinterp[1])\n",
    "print(elevation.colorinterp[2])"
   ]
  },
  {
   "cell_type": "code",
   "execution_count": null,
   "metadata": {},
   "outputs": [],
   "source": [
    "print(np.min(elevation.read(1)), np.max(elevation.read(1)))\n",
    "print(np.min(elevation.read(2)), np.max(elevation.read(2)))\n",
    "print(np.min(elevation.read(3)), np.max(elevation.read(3)))"
   ]
  },
  {
   "cell_type": "markdown",
   "metadata": {},
   "source": [
    "Let us now plot the data:"
   ]
  },
  {
   "cell_type": "code",
   "execution_count": null,
   "metadata": {},
   "outputs": [],
   "source": [
    "image = elevation.read()"
   ]
  },
  {
   "cell_type": "code",
   "execution_count": null,
   "metadata": {},
   "outputs": [],
   "source": [
    "show(image)"
   ]
  },
  {
   "cell_type": "markdown",
   "metadata": {},
   "source": [
    "##  geojson\n",
    "\n",
    "Shapefiles are not the only kind of files that we can read with geopandas. Let us look at an example of reading data from a geojson file (which is a special case of json file with geographical coordinates).\n",
    "\n",
    "You can find more about json in:\n",
    "\n",
    "https://www.earthdatascience.org/courses/use-data-open-source-python/intro-to-apis/apis-in-python/"
   ]
  },
  {
   "cell_type": "code",
   "execution_count": null,
   "metadata": {},
   "outputs": [],
   "source": [
    "url = 'https://www.nps.gov/lib/npmap.js/4.0.0/examples/data/national-parks.geojson'"
   ]
  },
  {
   "cell_type": "code",
   "execution_count": null,
   "metadata": {},
   "outputs": [],
   "source": [
    "parks = gpd.read_file(url)"
   ]
  },
  {
   "cell_type": "code",
   "execution_count": null,
   "metadata": {},
   "outputs": [],
   "source": [
    "parks.head()"
   ]
  },
  {
   "cell_type": "markdown",
   "metadata": {},
   "source": [
    "Let us plot the data.\n",
    "\n",
    "folium is a nice Python package for visualization. You can learn more in the following notebook:\n",
    "\n",
    "https://github.com/geohackweek/tutorial_contents/blob/master/visualization/notebooks/foliumTutorial.ipynb"
   ]
  },
  {
   "cell_type": "code",
   "execution_count": null,
   "metadata": {},
   "outputs": [],
   "source": [
    "m = folium.Map(location=[40, -100], zoom_start=4)\n",
    "folium.GeoJson(parks).add_to(m)\n",
    "marker_cluster = MarkerCluster().add_to(m)\n",
    "m"
   ]
  },
  {
   "cell_type": "markdown",
   "metadata": {},
   "source": [
    "We are going to focus on the parks in Washington State:"
   ]
  },
  {
   "cell_type": "code",
   "execution_count": null,
   "metadata": {},
   "outputs": [],
   "source": [
    "parks_WA = parks.iloc[[94, 127, 187, 228, 286, 294, 295, 297, 299, 300, 302]].reset_index()"
   ]
  },
  {
   "cell_type": "markdown",
   "metadata": {},
   "source": [
    "We create a list of locations to add popups to the map."
   ]
  },
  {
   "cell_type": "code",
   "execution_count": null,
   "metadata": {},
   "outputs": [],
   "source": [
    "locations = []\n",
    "for index in range(0, len(parks_WA)):\n",
    "    location = [parks_WA['geometry'][index].y, parks_WA['geometry'][index].x]\n",
    "    locations.append(location)"
   ]
  },
  {
   "cell_type": "code",
   "execution_count": null,
   "metadata": {},
   "outputs": [],
   "source": [
    "m = folium.Map(location=[47, -121], zoom_start=7)\n",
    "marker_cluster = MarkerCluster().add_to(m)\n",
    "for point in range(0, len(locations)):\n",
    "    folium.Marker(location = locations[point], popup=parks_WA['Name'].iloc[point]).add_to(marker_cluster)\n",
    "m"
   ]
  },
  {
   "cell_type": "markdown",
   "metadata": {},
   "source": [
    "## Hierarchical formats: NETCDF4 & HDF5\n",
    "\n",
    "Hierarchical data formats are designed to store large amount of data into a single file. They mimic a file system (e.g., tree-like data structure with nested directories) into a single file.  There are two domiment hierarchical data formats (HDF5 and NETCDF4), and one emerging for cloud (Zarr). Hierarchical formats in general can store many data types (numeric vs string).\n",
    "\n",
    "## HDF5\n",
    "The Hierarchical Data Format version 5 (HDF5), is an open source file format that supports large, complex, heterogeneous data. HDF5 uses a \"file directory\" like structure that allows you to organize data within the file in many different structured ways, as you might do with files on your computer. The HDF5 format also allows for embedding of metadata making it _self-describing_.\n",
    "HDF5 files are self describing - this means that all elements (the file itself, groups and datasets) can have associated metadata that describes the information contained within the element.\n",
    "\n",
    "\n",
    "HDF Structure Example:\n",
    "- Datasets, which are typed multidimensional arrays\n",
    "- Groups, which are container structures that can hold datasets and other groups\n",
    "\n",
    "\n",
    "<img src=\"hdf5_structure4.jpeg\" alt=\"An illustration of a H5 data set \" />\n",
    "Figure: HDF5 data example. Found in [neonscience](https://www.neonscience.org/resources/learning-hub/tutorials/about-hdf5)\n",
    "\n",
    "## Netcdf\n",
    "\n",
    "The network Common Data Form, or **netCDF**, was created in the early 1990s, and set out to solve some of the challenges in working with N-dimensional arrays. Netcdf is a collection of self-describing, machine-independent binary data formats and software tools that facilitate the creation, access and sharing of scientific data stored in N-dimensional arrays, along with metadata describing the contents of each array. Netcdf was built by the climate science community at a time when regional climate models were beginning to produce larger and larger output files. NetCDF version 4 is now a subset of HDF5.\n",
    "\n",
    "\n",
    "### Handling large arrays\n",
    "The NetCDF & H5 format have no limit on file sizes. However, any analysis tools that read data from a NetCDF array into memory for some computational operation will be limited by that particular machine's available memory. \n",
    "\n",
    "### But slow at I/O\n",
    "When reading a hierarchical file, the whole tree of the data structure is scanned from the root node down. Since it has to be done each time a user makes an inquiry, reading H5 and Netcdf is **slow**. There are faster\n",
    "\n",
    "\n",
    "\n",
    "The data files for this part can be downloaded here:\n",
    "\n",
    "https://www.sciencebase.gov/catalog/item/5cfeb4cce4b0156ea5645056"
   ]
  },
  {
   "cell_type": "code",
   "execution_count": null,
   "metadata": {},
   "outputs": [],
   "source": [
    "file1 = 'NCM_GeologicFrameworkGrids.nc'\n",
    "file2 = 'NCM_SpatialGrid.nc'\n",
    "geology = nc.Dataset(file1)\n",
    "grid = nc.Dataset(file2)"
   ]
  },
  {
   "cell_type": "code",
   "execution_count": null,
   "metadata": {},
   "outputs": [],
   "source": [
    "geology"
   ]
  },
  {
   "cell_type": "code",
   "execution_count": null,
   "metadata": {},
   "outputs": [],
   "source": [
    "geology['Surface Elevation']"
   ]
  },
  {
   "cell_type": "code",
   "execution_count": null,
   "metadata": {},
   "outputs": [],
   "source": [
    "np.shape(geology['Surface Elevation'])"
   ]
  },
  {
   "cell_type": "code",
   "execution_count": null,
   "metadata": {},
   "outputs": [],
   "source": [
    "geology['Surface Elevation'][3246, 1234]"
   ]
  },
  {
   "cell_type": "code",
   "execution_count": null,
   "metadata": {},
   "outputs": [],
   "source": [
    "x = grid['x'][0:4901, 0:3201]\n",
    "y = grid['y'][0:4901, 0:3201]\n",
    "elevation = geology['Surface Elevation'][0:4901, 0:3201]"
   ]
  },
  {
   "cell_type": "code",
   "execution_count": null,
   "metadata": {},
   "outputs": [],
   "source": [
    "plt.contourf(x, y, elevation)"
   ]
  },
  {
   "cell_type": "markdown",
   "metadata": {},
   "source": [
    "## Zarr\n",
    "\n",
    "\n",
    "Zarr is a cloud-optimized data format that handles heterogeneous data sets.\n",
    "\n",
    "In the following exercise, we will use the Xarray open data sets air_temperature and save it into a Zarr file.\n",
    "\n",
    "Let's work in groups to :\n",
    "- Download the xarray data\n",
    "- Save it in to file, report on time and size of the data set.\n",
    "- Read it again and check again write time and read times"
   ]
  }
 ],
 "metadata": {
  "kernelspec": {
   "display_name": "Python 3.8.13",
   "language": "python",
   "name": "python3"
  },
  "language_info": {
   "codemirror_mode": {
    "name": "ipython",
    "version": 3
   },
   "file_extension": ".py",
   "mimetype": "text/x-python",
   "name": "python",
   "nbconvert_exporter": "python",
   "pygments_lexer": "ipython3",
   "version": "3.9.13"
  },
  "orig_nbformat": 4,
  "vscode": {
   "interpreter": {
    "hash": "f625eed87f201675869c1975f26c79747f846dd12cd9c70305bdb23b2c204f1d"
   }
  }
 },
 "nbformat": 4,
 "nbformat_minor": 2
}
