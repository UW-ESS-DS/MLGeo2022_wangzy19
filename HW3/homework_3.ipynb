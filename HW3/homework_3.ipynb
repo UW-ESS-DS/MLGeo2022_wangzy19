{
 "cells": [
  {
   "cell_type": "markdown",
   "metadata": {},
   "source": [
    "# Homework 3\n",
    "\n",
    "This homework will explore linear regression and resampling techniques by analyzing data from a database of glaciers. The database is *Glatilda* for [*Glacier Ice Thickness Database*](!https://www.gtn-g.ch/data_catalogue_glathida/).\n",
    "\n",
    "1. Data prep (5 points)\n",
    "2. Mapping (10 points)\n",
    "3. Correlations between parameters (5 points)\n",
    "4. Linear regression and resampling techniques (10 points)\n",
    "\n",
    "## 1. Data Prep (5 points total)\n",
    "\n",
    "### a) Download data (1 point) \n",
    "The database is saved on a GitLab repository that you may clone: https://gitlab.com/wgms/glathida.git\n",
    "\n"
   ]
  },
  {
   "cell_type": "code",
   "execution_count": 1,
   "metadata": {},
   "outputs": [
    {
     "name": "stderr",
     "output_type": "stream",
     "text": [
      "Cloning into 'glathida'...\n",
      "Updating files:  48% (12/25)\n",
      "Updating files:  52% (13/25)\n",
      "Updating files:  56% (14/25)\n",
      "Updating files:  60% (15/25)\n",
      "Updating files:  64% (16/25)\n",
      "Updating files:  68% (17/25)\n",
      "Updating files:  72% (18/25)\n",
      "Updating files:  76% (19/25)\n",
      "Updating files:  80% (20/25)\n",
      "Updating files:  84% (21/25)\n",
      "Updating files:  88% (22/25)\n",
      "Updating files:  92% (23/25)\n",
      "Updating files:  96% (24/25)\n",
      "Updating files: 100% (25/25)\n",
      "Updating files: 100% (25/25), done.\n"
     ]
    }
   ],
   "source": [
    "# answer\n",
    "!git clone https://gitlab.com/wgms/glathida.git"
   ]
  },
  {
   "cell_type": "markdown",
   "metadata": {},
   "source": [
    "### b) Import Python modules (1 point) \n",
    "Import pandas, geopandas, plotting, raster files,  numpy, netcdf"
   ]
  },
  {
   "cell_type": "code",
   "execution_count": 5,
   "metadata": {},
   "outputs": [],
   "source": [
    "# solution\n",
    "import pandas as pd\n",
    "import geopandas as gpd\n",
    "import numpy as np\n",
    "import matplotlib.pyplot as plt\n",
    "import rasterio\n",
    "import netCDF4 as nc"
   ]
  },
  {
   "cell_type": "markdown",
   "metadata": {},
   "source": [
    "### c) Read data (2 points)\n",
    "Read the glacier data from the file ``glathida/data/glacier.csv`` into a pandas data frame, and decribe briefly the dataframe content and its first few lines."
   ]
  },
  {
   "cell_type": "code",
   "execution_count": 44,
   "metadata": {},
   "outputs": [
    {
     "data": {
      "text/html": [
       "<div>\n",
       "<style scoped>\n",
       "    .dataframe tbody tr th:only-of-type {\n",
       "        vertical-align: middle;\n",
       "    }\n",
       "\n",
       "    .dataframe tbody tr th {\n",
       "        vertical-align: top;\n",
       "    }\n",
       "\n",
       "    .dataframe thead th {\n",
       "        text-align: right;\n",
       "    }\n",
       "</style>\n",
       "<table border=\"1\" class=\"dataframe\">\n",
       "  <thead>\n",
       "    <tr style=\"text-align: right;\">\n",
       "      <th></th>\n",
       "      <th>id</th>\n",
       "      <th>survey_id</th>\n",
       "      <th>lat</th>\n",
       "      <th>lon</th>\n",
       "      <th>area</th>\n",
       "      <th>mean_slope</th>\n",
       "      <th>mean_thickness</th>\n",
       "      <th>mean_thickness_uncertainty</th>\n",
       "      <th>max_thickness</th>\n",
       "      <th>max_thickness_uncertainty</th>\n",
       "      <th>number_points</th>\n",
       "      <th>number_profiles</th>\n",
       "      <th>length_profiles</th>\n",
       "    </tr>\n",
       "  </thead>\n",
       "  <tbody>\n",
       "    <tr>\n",
       "      <th>count</th>\n",
       "      <td>1013.000000</td>\n",
       "      <td>1013.000000</td>\n",
       "      <td>1013.000000</td>\n",
       "      <td>1013.000000</td>\n",
       "      <td>985.000000</td>\n",
       "      <td>426.000000</td>\n",
       "      <td>498.000000</td>\n",
       "      <td>127.000000</td>\n",
       "      <td>525.000000</td>\n",
       "      <td>135.000000</td>\n",
       "      <td>593.000000</td>\n",
       "      <td>68.000000</td>\n",
       "      <td>141.000000</td>\n",
       "    </tr>\n",
       "    <tr>\n",
       "      <th>mean</th>\n",
       "      <td>1395.566634</td>\n",
       "      <td>130.707799</td>\n",
       "      <td>57.084700</td>\n",
       "      <td>14.987602</td>\n",
       "      <td>217.599979</td>\n",
       "      <td>9.091549</td>\n",
       "      <td>70.375502</td>\n",
       "      <td>7.125984</td>\n",
       "      <td>197.563810</td>\n",
       "      <td>10.074074</td>\n",
       "      <td>3086.131535</td>\n",
       "      <td>15.779412</td>\n",
       "      <td>48.587333</td>\n",
       "    </tr>\n",
       "    <tr>\n",
       "      <th>std</th>\n",
       "      <td>1085.433643</td>\n",
       "      <td>75.321429</td>\n",
       "      <td>29.473871</td>\n",
       "      <td>51.341702</td>\n",
       "      <td>1602.939314</td>\n",
       "      <td>5.806169</td>\n",
       "      <td>69.053311</td>\n",
       "      <td>5.988073</td>\n",
       "      <td>199.968677</td>\n",
       "      <td>6.977180</td>\n",
       "      <td>8117.336773</td>\n",
       "      <td>17.335018</td>\n",
       "      <td>183.175981</td>\n",
       "    </tr>\n",
       "    <tr>\n",
       "      <th>min</th>\n",
       "      <td>1.000000</td>\n",
       "      <td>1.000000</td>\n",
       "      <td>-74.583300</td>\n",
       "      <td>-151.300000</td>\n",
       "      <td>0.026400</td>\n",
       "      <td>0.000000</td>\n",
       "      <td>4.000000</td>\n",
       "      <td>0.000000</td>\n",
       "      <td>12.000000</td>\n",
       "      <td>1.000000</td>\n",
       "      <td>1.000000</td>\n",
       "      <td>1.000000</td>\n",
       "      <td>0.140000</td>\n",
       "    </tr>\n",
       "    <tr>\n",
       "      <th>25%</th>\n",
       "      <td>325.000000</td>\n",
       "      <td>69.000000</td>\n",
       "      <td>46.453610</td>\n",
       "      <td>10.700000</td>\n",
       "      <td>2.204000</td>\n",
       "      <td>6.000000</td>\n",
       "      <td>33.250000</td>\n",
       "      <td>3.000000</td>\n",
       "      <td>95.000000</td>\n",
       "      <td>5.000000</td>\n",
       "      <td>46.000000</td>\n",
       "      <td>6.000000</td>\n",
       "      <td>3.000000</td>\n",
       "    </tr>\n",
       "    <tr>\n",
       "      <th>50%</th>\n",
       "      <td>1995.000000</td>\n",
       "      <td>128.000000</td>\n",
       "      <td>62.039400</td>\n",
       "      <td>14.687100</td>\n",
       "      <td>10.959000</td>\n",
       "      <td>8.000000</td>\n",
       "      <td>51.000000</td>\n",
       "      <td>5.000000</td>\n",
       "      <td>140.000000</td>\n",
       "      <td>8.000000</td>\n",
       "      <td>189.000000</td>\n",
       "      <td>10.500000</td>\n",
       "      <td>9.500000</td>\n",
       "    </tr>\n",
       "    <tr>\n",
       "      <th>75%</th>\n",
       "      <td>2254.000000</td>\n",
       "      <td>203.000000</td>\n",
       "      <td>78.776000</td>\n",
       "      <td>22.280000</td>\n",
       "      <td>98.341000</td>\n",
       "      <td>12.000000</td>\n",
       "      <td>74.000000</td>\n",
       "      <td>9.000000</td>\n",
       "      <td>230.000000</td>\n",
       "      <td>13.000000</td>\n",
       "      <td>2018.000000</td>\n",
       "      <td>21.000000</td>\n",
       "      <td>22.500000</td>\n",
       "    </tr>\n",
       "    <tr>\n",
       "      <th>max</th>\n",
       "      <td>6631.000000</td>\n",
       "      <td>256.000000</td>\n",
       "      <td>81.767200</td>\n",
       "      <td>170.320000</td>\n",
       "      <td>40000.000000</td>\n",
       "      <td>48.000000</td>\n",
       "      <td>541.000000</td>\n",
       "      <td>30.000000</td>\n",
       "      <td>2500.000000</td>\n",
       "      <td>36.000000</td>\n",
       "      <td>67542.000000</td>\n",
       "      <td>120.000000</td>\n",
       "      <td>1657.000000</td>\n",
       "    </tr>\n",
       "  </tbody>\n",
       "</table>\n",
       "</div>"
      ],
      "text/plain": [
       "                id    survey_id          lat          lon          area  \\\n",
       "count  1013.000000  1013.000000  1013.000000  1013.000000    985.000000   \n",
       "mean   1395.566634   130.707799    57.084700    14.987602    217.599979   \n",
       "std    1085.433643    75.321429    29.473871    51.341702   1602.939314   \n",
       "min       1.000000     1.000000   -74.583300  -151.300000      0.026400   \n",
       "25%     325.000000    69.000000    46.453610    10.700000      2.204000   \n",
       "50%    1995.000000   128.000000    62.039400    14.687100     10.959000   \n",
       "75%    2254.000000   203.000000    78.776000    22.280000     98.341000   \n",
       "max    6631.000000   256.000000    81.767200   170.320000  40000.000000   \n",
       "\n",
       "       mean_slope  mean_thickness  mean_thickness_uncertainty  max_thickness  \\\n",
       "count  426.000000      498.000000                  127.000000     525.000000   \n",
       "mean     9.091549       70.375502                    7.125984     197.563810   \n",
       "std      5.806169       69.053311                    5.988073     199.968677   \n",
       "min      0.000000        4.000000                    0.000000      12.000000   \n",
       "25%      6.000000       33.250000                    3.000000      95.000000   \n",
       "50%      8.000000       51.000000                    5.000000     140.000000   \n",
       "75%     12.000000       74.000000                    9.000000     230.000000   \n",
       "max     48.000000      541.000000                   30.000000    2500.000000   \n",
       "\n",
       "       max_thickness_uncertainty  number_points  number_profiles  \\\n",
       "count                 135.000000     593.000000        68.000000   \n",
       "mean                   10.074074    3086.131535        15.779412   \n",
       "std                     6.977180    8117.336773        17.335018   \n",
       "min                     1.000000       1.000000         1.000000   \n",
       "25%                     5.000000      46.000000         6.000000   \n",
       "50%                     8.000000     189.000000        10.500000   \n",
       "75%                    13.000000    2018.000000        21.000000   \n",
       "max                    36.000000   67542.000000       120.000000   \n",
       "\n",
       "       length_profiles  \n",
       "count       141.000000  \n",
       "mean         48.587333  \n",
       "std         183.175981  \n",
       "min           0.140000  \n",
       "25%           3.000000  \n",
       "50%           9.500000  \n",
       "75%          22.500000  \n",
       "max        1657.000000  "
      ]
     },
     "execution_count": 44,
     "metadata": {},
     "output_type": "execute_result"
    }
   ],
   "source": [
    "# solution\n",
    "t_path = \"glathida/data/glacier.csv\"\n",
    "\n",
    "# read the csv and describe\n",
    "data = pd.read_csv(t_path)\n",
    "data.describe()\n"
   ]
  },
  {
   "cell_type": "code",
   "execution_count": 45,
   "metadata": {},
   "outputs": [
    {
     "name": "stdout",
     "output_type": "stream",
     "text": [
      "Index(['id', 'survey_id', 'name', 'external_db', 'external_id', 'lat', 'lon',\n",
      "       'date', 'max_date', 'area', 'mean_slope', 'mean_thickness',\n",
      "       'mean_thickness_uncertainty', 'max_thickness',\n",
      "       'max_thickness_uncertainty', 'number_points', 'number_profiles',\n",
      "       'length_profiles', 'interpolation_method', 'flag', 'remarks'],\n",
      "      dtype='object')\n"
     ]
    }
   ],
   "source": [
    "# first five lines \n",
    "data.head()\n",
    "print(data.columns)"
   ]
  },
  {
   "cell_type": "markdown",
   "metadata": {},
   "source": [
    "**Explore the data with visualization**\n",
    "Before making any inference of models with the data, we will start by exploring basic correlations among parameters by plotting. In particular, we will focus on ``mean_thickness``, ``area``, ``mean_slope`` parameters.\n",
    "\n",
    "### d) Remove bad data (1 point)\n",
    "\n",
    "The database may contain Nans and other \"bad\" values (welcome to the data world!). First we will clean the data by removing nans. We are mostly interested in the thickness, area, and slope\n",
    "\n"
   ]
  },
  {
   "cell_type": "code",
   "execution_count": 71,
   "metadata": {},
   "outputs": [],
   "source": [
    "#answer below \n",
    "data = data.dropna(subset=['mean_thickness','area','mean_slope'])\n",
    "data.to_csv('cleanData.csv')"
   ]
  },
  {
   "cell_type": "markdown",
   "metadata": {},
   "source": [
    "## 2. Mapping glaciers (10 points)\n",
    "\n",
    "Make a global map of the glaciers. Use either of the tools we learned in class:\n",
    "* Geopandas, DEMs from NetCDFfiles (see chapter 2.4)\n",
    "* Pandas and Plotly (see chapter 2.2). You may need to transform some of the series into log-spaced values for better visualization."
   ]
  },
  {
   "cell_type": "markdown",
   "metadata": {},
   "source": [
    "### Option 1: Tif and matplotlib\n",
    "\n",
    "You can use the ``elevation`` data from the DEM seen in class. Download the DEM file (https://www.dropbox.com/s/j5lxhd8uxrtsxko/HYP_50M_SR.tif?dl=1)"
   ]
  },
  {
   "cell_type": "code",
   "execution_count": null,
   "metadata": {},
   "outputs": [],
   "source": [
    "# solution\n",
    "filename = 'HYP_50M_SR.tif'\n"
   ]
  },
  {
   "cell_type": "markdown",
   "metadata": {},
   "source": [
    "\n",
    "___Tips___: when plotting a image in ``matplotlib`` you need to add information about the physical dimensions of the image. You can calculate the ``bounds``."
   ]
  },
  {
   "cell_type": "code",
   "execution_count": null,
   "metadata": {},
   "outputs": [],
   "source": [
    "bounds = (elevation.bounds.left, elevation.bounds.right, \\\n",
    "          elevation.bounds.bottom, elevation.bounds.top)"
   ]
  },
  {
   "cell_type": "markdown",
   "metadata": {},
   "source": [
    "We will use ``matplotlib.pyplot`` to show the raster image in the background (tips: use ``imshow()``. The raster image in matplotlib can only import one frame and not three (R, G, B) frames. We will first stack the three images together. "
   ]
  },
  {
   "cell_type": "code",
   "execution_count": null,
   "metadata": {},
   "outputs": [],
   "source": [
    "red = elevation.read(1)\n",
    "green = elevation.read(2)\n",
    "blue = elevation.read(3)\n",
    "pix = np.dstack((red, green, blue))"
   ]
  },
  {
   "cell_type": "code",
   "execution_count": null,
   "metadata": {},
   "outputs": [],
   "source": [
    "# solution\n"
   ]
  },
  {
   "cell_type": "markdown",
   "metadata": {},
   "source": [
    "## Option 2: Plotly\n",
    "\n",
    "You may use plotly. For improved visibility, transform some of the data into log-spaced. You may add these transformed Series into the Pandas, and use them as input to plotly."
   ]
  },
  {
   "cell_type": "code",
   "execution_count": 50,
   "metadata": {},
   "outputs": [],
   "source": [
    "\n",
    "import plotly.express as px\n",
    "import plotly.io as pio\n",
    "pio.renderers.default = 'vscode' # writes as standalone html, \n",
    "# pio.renderers.default = 'iframe' # writes files as standalone html, \n",
    "# pio.renderers.default = 'png' # writes files as standalone html, \n",
    "# try notebook, jupyterlab, png, vscode, iframe"
   ]
  },
  {
   "cell_type": "code",
   "execution_count": 61,
   "metadata": {},
   "outputs": [
    {
     "data": {
      "text/plain": [
       "4.0"
      ]
     },
     "execution_count": 61,
     "metadata": {},
     "output_type": "execute_result"
    }
   ],
   "source": [
    "# solution\n",
    "#data['marker_size'] = np.fix(np.exp(data['mean_thickness']/10))\n",
    "#data\n",
    "data['mean_thickness'].max()\n",
    "data['mean_thickness'].min()"
   ]
  },
  {
   "cell_type": "code",
   "execution_count": 66,
   "metadata": {},
   "outputs": [
    {
     "data": {
      "application/vnd.plotly.v1+json": {
       "config": {
        "plotlyServerURL": "https://plot.ly"
       },
       "data": [
        {
         "customdata": [
          [
           "Easton Glacier",
           58,
           2.9,
           0
          ],
          [
           "Lemon Creek Glacier",
           66,
           11.7,
           0
          ],
          [
           "Praviy Aktru",
           56,
           5.15,
           0
          ],
          [
           "Maliy Aktru",
           86,
           2.84,
           0
          ],
          [
           "Leviy Aktru",
           90,
           5.95,
           0
          ],
          [
           "Vodopadniy",
           55,
           0.75,
           0
          ],
          [
           "Batysh Sook Glacier",
           34,
           1.18,
           0
          ],
          [
           "Sary-Tor Glacier",
           53,
           3.61,
           0
          ],
          [
           "Golubin Glacier",
           53,
           5.757,
           0
          ],
          [
           "Davidova Glacier",
           61,
           11.32,
           0
          ],
          [
           "Karabatkak Glacier",
           53,
           4.19,
           0
          ],
          [
           "Tuyuksu (central)",
           104,
           2.72,
           0
          ],
          [
           "Fedchenko Glacier",
           175,
           824,
           0
          ],
          [
           "Abramov Glacier",
           110,
           22.5,
           0
          ],
          [
           "31",
           76,
           3.2,
           0
          ],
          [
           "Kavrayskogo",
           49,
           3.2,
           0
          ],
          [
           "Krasovskogo",
           49,
           3.4,
           0
          ],
          [
           "214",
           52,
           1,
           0
          ],
          [
           "252",
           43,
           2,
           0
          ],
          [
           "Kaskabulakskii",
           52,
           2.8,
           0
          ],
          [
           "259",
           47,
           1.2,
           0
          ],
          [
           "Ajusaiskii",
           45,
           2.2,
           0
          ],
          [
           "183",
           49,
           1.6,
           0
          ],
          [
           "Khejerdala",
           54,
           5.3,
           0
          ],
          [
           "Korjunskii",
           67,
           2.3,
           0
          ],
          [
           "Mgg",
           37,
           2,
           0
          ],
          [
           "Ekspeditsiy",
           39,
           1.5,
           0
          ],
          [
           "Rodina",
           32,
           1.1,
           0
          ],
          [
           "Kartaygan",
           58,
           1.5,
           0
          ],
          [
           "Ashar",
           51,
           1.7,
           0
          ],
          [
           "Maliy Useksiy",
           50,
           2.6,
           0
          ],
          [
           "Denisov",
           47,
           1,
           0
          ],
          [
           "305",
           47,
           1,
           0
          ],
          [
           "59",
           29,
           1,
           0
          ],
          [
           "Karabulaksiy",
           31,
           1.5,
           1
          ],
          [
           "Juytas",
           54,
           2.1,
           0
          ],
          [
           "261",
           49,
           1.1,
           0
          ],
          [
           "Keregetas",
           25,
           1.7,
           0
          ],
          [
           "Bolshoy Koksaysk",
           48,
           2.8,
           0
          ],
          [
           "Kazanskii",
           47,
           3.8,
           0
          ],
          [
           "82",
           45,
           2.9,
           0
          ],
          [
           "93",
           40,
           0.8,
           0
          ],
          [
           "Panfilova",
           49,
           4.2,
           0
          ],
          [
           "Khorgosskiy",
           42,
           2.5,
           0
          ],
          [
           "Tishkan",
           27,
           2.1,
           0
          ],
          [
           "Majak Vostochniy",
           59,
           1.4,
           0
          ],
          [
           "125",
           36,
           1.9,
           0
          ],
          [
           "Majak Zapadniy",
           48,
           0.9,
           0
          ],
          [
           "Sagrir",
           33,
           1.5,
           0
          ],
          [
           "Shumskogo",
           62,
           2.82,
           0
          ],
          [
           "Muravlev",
           61,
           1,
           0
          ],
          [
           "Dokriani Glacier",
           30,
           9.7,
           12
          ],
          [
           "Sperry Glacier",
           26,
           1,
           10
          ],
          [
           "Pizolgletscher",
           15,
           0.08068,
           22
          ],
          [
           "Schneeferner",
           17,
           0.307,
           18
          ],
          [
           "Südlicher Schneeferner",
           5,
           0.084,
           22
          ],
          [
           "Höllentalferner",
           12,
           0.223,
           26
          ],
          [
           "Blaueis",
           4,
           0.106,
           33
          ],
          [
           "Watzmanngletscher",
           6,
           0.101,
           22
          ],
          [
           "Findelengletscher",
           89,
           13.07938,
           13
          ],
          [
           "Glaciar Charquini Sur",
           22,
           0.3097,
           21
          ],
          [
           "Glaciar La Conejeras",
           22,
           0.191,
           26
          ],
          [
           "Glaciar Zongo",
           65,
           1.8841,
           21
          ],
          [
           "Blauschnee",
           8,
           0.0264,
           48
          ],
          [
           "Vadret dal Corvatsch",
           17,
           0.2257,
           22
          ],
          [
           "Gurschenfirn",
           15,
           0.13572,
           27
          ],
          [
           "Vadret dal Murtèl",
           23,
           0.3015,
           15
          ],
          [
           "Muttgletscher",
           26,
           0.36654,
           17
          ],
          [
           "Glacier de Plan Névé",
           19,
           0.5825,
           15
          ],
          [
           "Sardonagletscher",
           13,
           0.39062,
           20
          ],
          [
           "Schwarzwasserfirn",
           8,
           0.05848,
           27
          ],
          [
           "Glatschiu dil Segnas",
           19,
           0.37938,
           17
          ],
          [
           "Glacier du Sex Rouge",
           29,
           0.3017,
           15
          ],
          [
           "Sankt Annafirn",
           16,
           0.2176,
           22
          ],
          [
           "Glacier de Tortin",
           25,
           0.62967,
           16
          ],
          [
           "Glacier de Tsanfleuron",
           69,
           3.2275,
           10
          ],
          [
           "Glacier de Tsarmine",
           15,
           0.2605,
           30
          ],
          [
           "Storbreen",
           90,
           5.36,
           14
          ],
          [
           "Hellstugubreen",
           70,
           2.9,
           13
          ],
          [
           "Vestre Memurubreen",
           128,
           8.6,
           7
          ],
          [
           "Gråsubreen",
           60,
           2.1,
           12
          ],
          [
           "Langfjordjøkelen",
           67,
           3.2,
           13
          ],
          [
           "Rundvassbreen",
           208,
           11.1,
           5
          ],
          [
           "Hardangerjøkulen",
           148,
           71.3,
           6
          ],
          [
           "Marukh",
           97,
           2.76,
           13
          ],
          [
           "Elfenbeinbreen",
           85,
           39.96,
           3
          ],
          [
           "Sveigbreen",
           74,
           28.59,
           3
          ],
          [
           "Urumqi Glacier No. 1",
           44,
           1.59,
           20
          ],
          [
           "West Washmawapta Glacier",
           70,
           1,
           16
          ],
          [
           "Muz Taw",
           23,
           3.078,
           17
          ],
          [
           "Sigonghe 4",
           28,
           2.8,
           20
          ],
          [
           "Urumqi Glacier No. 1",
           46,
           1.69,
           20
          ],
          [
           "Urumqi Glacier No. 1 (east branch)",
           44,
           1.09,
           18
          ],
          [
           "Urumqi Glacier No. 1 (west branch)",
           49,
           0.6,
           23
          ],
          [
           "Sary-Tor Glacier",
           51,
           2.39,
           16
          ],
          [
           "Aqqutikitsoq",
           50,
           2.85,
           12
          ],
          [
           "Shiyi",
           16,
           0.5368,
           24
          ],
          [
           "Haxilegen 51",
           15,
           1.24651,
           20
          ],
          [
           "Heigou 8",
           58,
           6.078,
           25
          ],
          [
           "Shenqi Peak",
           29,
           1.55417,
           10
          ],
          [
           "Qiyi",
           41,
           2.96629,
           21
          ],
          [
           "Ålfotbreen",
           65,
           10.6,
           9
          ],
          [
           "Ålfotbreen",
           57,
           4,
           10
          ],
          [
           "Hansebreen",
           85,
           2.6,
           9
          ],
          [
           "Ålfotbreen (south)",
           68,
           3.28,
           9
          ],
          [
           "Blekumbreen",
           32,
           2.1,
           13
          ],
          [
           "Tuyuksu (central)",
           47,
           2.61,
           20
          ],
          [
           "Aldegondabreen",
           65,
           6.737,
           6
          ],
          [
           "Ariebreen",
           27,
           0.37,
           19
          ],
          [
           "Austre Lovenbreen",
           76,
           4.6,
           14
          ]
         ],
         "geo": "geo",
         "hovertemplate": "<b>%{hovertext}</b><br><br>mean_thickness=%{marker.color}<br>lat=%{lat}<br>lon=%{lon}<br>name=%{customdata[0]}<br>area=%{customdata[2]}<br>mean_slope=%{customdata[3]}<extra></extra>",
         "hovertext": [
          "Easton Glacier",
          "Lemon Creek Glacier",
          "Praviy Aktru",
          "Maliy Aktru",
          "Leviy Aktru",
          "Vodopadniy",
          "Batysh Sook Glacier",
          "Sary-Tor Glacier",
          "Golubin Glacier",
          "Davidova Glacier",
          "Karabatkak Glacier",
          "Tuyuksu (central)",
          "Fedchenko Glacier",
          "Abramov Glacier",
          "31",
          "Kavrayskogo",
          "Krasovskogo",
          "214",
          "252",
          "Kaskabulakskii",
          "259",
          "Ajusaiskii",
          "183",
          "Khejerdala",
          "Korjunskii",
          "Mgg",
          "Ekspeditsiy",
          "Rodina",
          "Kartaygan",
          "Ashar",
          "Maliy Useksiy",
          "Denisov",
          "305",
          "59",
          "Karabulaksiy",
          "Juytas",
          "261",
          "Keregetas",
          "Bolshoy Koksaysk",
          "Kazanskii",
          "82",
          "93",
          "Panfilova",
          "Khorgosskiy",
          "Tishkan",
          "Majak Vostochniy",
          "125",
          "Majak Zapadniy",
          "Sagrir",
          "Shumskogo",
          "Muravlev",
          "Dokriani Glacier",
          "Sperry Glacier",
          "Pizolgletscher",
          "Schneeferner",
          "Südlicher Schneeferner",
          "Höllentalferner",
          "Blaueis",
          "Watzmanngletscher",
          "Findelengletscher",
          "Glaciar Charquini Sur",
          "Glaciar La Conejeras",
          "Glaciar Zongo",
          "Blauschnee",
          "Vadret dal Corvatsch",
          "Gurschenfirn",
          "Vadret dal Murtèl",
          "Muttgletscher",
          "Glacier de Plan Névé",
          "Sardonagletscher",
          "Schwarzwasserfirn",
          "Glatschiu dil Segnas",
          "Glacier du Sex Rouge",
          "Sankt Annafirn",
          "Glacier de Tortin",
          "Glacier de Tsanfleuron",
          "Glacier de Tsarmine",
          "Storbreen",
          "Hellstugubreen",
          "Vestre Memurubreen",
          "Gråsubreen",
          "Langfjordjøkelen",
          "Rundvassbreen",
          "Hardangerjøkulen",
          "Marukh",
          "Elfenbeinbreen",
          "Sveigbreen",
          "Urumqi Glacier No. 1",
          "West Washmawapta Glacier",
          "Muz Taw",
          "Sigonghe 4",
          "Urumqi Glacier No. 1",
          "Urumqi Glacier No. 1 (east branch)",
          "Urumqi Glacier No. 1 (west branch)",
          "Sary-Tor Glacier",
          "Aqqutikitsoq",
          "Shiyi",
          "Haxilegen 51",
          "Heigou 8",
          "Shenqi Peak",
          "Qiyi",
          "Ålfotbreen",
          "Ålfotbreen",
          "Hansebreen",
          "Ålfotbreen (south)",
          "Blekumbreen",
          "Tuyuksu (central)",
          "Aldegondabreen",
          "Ariebreen",
          "Austre Lovenbreen"
         ],
         "lat": [
          48.75,
          58.38,
          50.06134,
          50.04967,
          50.08008,
          50.0503,
          41.78681,
          41.825132,
          42.45448,
          41.8273,
          42.14031,
          43.05,
          38.767,
          39.6097,
          62.58879,
          45.23645,
          45.23513,
          44.92845,
          44.883,
          44.883,
          44.917,
          44.85772,
          44.83929,
          44.97,
          44.89076,
          44.97,
          44.95518,
          44.95315,
          44.99511,
          45,
          44.5841,
          44.5858,
          44.7016,
          44.722,
          44.7049,
          44.685,
          44.679,
          44.6667,
          44.7404,
          44.77608,
          44.77695,
          44.582,
          44.5821,
          44.5846,
          44.6142,
          44.5723,
          44.5804,
          44.56647,
          44.59,
          45.08,
          45.0958,
          30.855,
          48.62495,
          46.9595,
          47.4139,
          47.4,
          47.4231,
          47.571,
          47.5543,
          45.9936,
          -16.3023,
          4.80506,
          -16.266,
          47.25038,
          46.418641,
          46.6049,
          46.408281,
          46.550849,
          46.1666,
          46.916205,
          46.5967,
          46.910684,
          46.327,
          46.600208,
          46.08483,
          46.3202,
          46.048207,
          61.573395,
          61.555861,
          61.541544,
          61.656513,
          70.128,
          67.278,
          60.546,
          43.361887,
          78.1851,
          78.1071,
          43.11124,
          51.177,
          47.065194,
          43.8342,
          43.11124,
          43.11124,
          43.118294,
          41.825132,
          67.094,
          38.214,
          43.731,
          43.784,
          41.78,
          39.237,
          61.75,
          61.75,
          61.75,
          61.73,
          78.24548,
          43.043653,
          77.9714,
          77.0272,
          78.871
         ],
         "legendgroup": "",
         "lon": [
          -121.83,
          -134.36,
          87.69741,
          87.74552,
          87.69025,
          87.7886,
          77.74927,
          78.176022,
          74.49766,
          78.20493,
          78.2728,
          77.08,
          72.283,
          71.56986,
          140.86536,
          80.78166,
          80.80835,
          79.13669,
          79.285,
          79.317,
          79.317,
          79.45203,
          79.46103,
          79.42,
          79.48539,
          79.53,
          79.54601,
          79.56239,
          79.75732,
          79.82,
          79.4753,
          79.498,
          79.5927,
          79.648,
          79.7181,
          79.7254,
          79.7375,
          79.7391,
          79.961,
          79.93852,
          79.82588,
          80.29,
          80.2741,
          80.2417,
          80.1426,
          80.172,
          80.1887,
          80.12033,
          80.1179,
          80.23,
          80.23832,
          78.818,
          -113.75707,
          9.3891,
          10.972,
          10.9736,
          10.9912,
          12.8666,
          12.9282,
          7.87051,
          -68.1064,
          -75.3715,
          -68.148,
          9.34301,
          9.825164,
          8.61212,
          9.825684,
          8.417236,
          6.93715,
          9.255655,
          8.61109,
          9.249232,
          7.21308,
          8.602228,
          7.309231,
          7.22536,
          7.517633,
          8.131989,
          8.441361,
          8.454024,
          8.599633,
          21.735,
          16.037,
          7.432,
          41.419771,
          18.2064,
          17.6978,
          86.810015,
          -116.33,
          85.563635,
          88.3261,
          86.810015,
          86.810015,
          86.80358,
          78.176022,
          -53.213,
          99.881,
          84.391,
          88.356,
          79.894,
          97.755,
          5.67,
          5.64,
          5.67,
          5.66,
          16.06438,
          77.080587,
          14.0691,
          15.4854,
          12.1614
         ],
         "marker": {
          "color": [
           58,
           66,
           56,
           86,
           90,
           55,
           34,
           53,
           53,
           61,
           53,
           104,
           175,
           110,
           76,
           49,
           49,
           52,
           43,
           52,
           47,
           45,
           49,
           54,
           67,
           37,
           39,
           32,
           58,
           51,
           50,
           47,
           47,
           29,
           31,
           54,
           49,
           25,
           48,
           47,
           45,
           40,
           49,
           42,
           27,
           59,
           36,
           48,
           33,
           62,
           61,
           30,
           26,
           15,
           17,
           5,
           12,
           4,
           6,
           89,
           22,
           22,
           65,
           8,
           17,
           15,
           23,
           26,
           19,
           13,
           8,
           19,
           29,
           16,
           25,
           69,
           15,
           90,
           70,
           128,
           60,
           67,
           208,
           148,
           97,
           85,
           74,
           44,
           70,
           23,
           28,
           46,
           44,
           49,
           51,
           50,
           16,
           15,
           58,
           29,
           41,
           65,
           57,
           85,
           68,
           32,
           47,
           65,
           27,
           76
          ],
          "coloraxis": "coloraxis",
          "size": [
           58,
           66,
           56,
           86,
           90,
           55,
           34,
           53,
           53,
           61,
           53,
           104,
           175,
           110,
           76,
           49,
           49,
           52,
           43,
           52,
           47,
           45,
           49,
           54,
           67,
           37,
           39,
           32,
           58,
           51,
           50,
           47,
           47,
           29,
           31,
           54,
           49,
           25,
           48,
           47,
           45,
           40,
           49,
           42,
           27,
           59,
           36,
           48,
           33,
           62,
           61,
           30,
           26,
           15,
           17,
           5,
           12,
           4,
           6,
           89,
           22,
           22,
           65,
           8,
           17,
           15,
           23,
           26,
           19,
           13,
           8,
           19,
           29,
           16,
           25,
           69,
           15,
           90,
           70,
           128,
           60,
           67,
           208,
           148,
           97,
           85,
           74,
           44,
           70,
           23,
           28,
           46,
           44,
           49,
           51,
           50,
           16,
           15,
           58,
           29,
           41,
           65,
           57,
           85,
           68,
           32,
           47,
           65,
           27,
           76
          ],
          "sizemode": "area",
          "sizeref": 0.52,
          "symbol": "circle"
         },
         "mode": "markers",
         "name": "",
         "showlegend": false,
         "type": "scattergeo"
        }
       ],
       "layout": {
        "coloraxis": {
         "cmax": 208,
         "cmin": 4,
         "colorbar": {
          "title": {
           "text": "mean_thickness"
          }
         },
         "colorscale": [
          [
           0,
           "#0d0887"
          ],
          [
           0.1111111111111111,
           "#46039f"
          ],
          [
           0.2222222222222222,
           "#7201a8"
          ],
          [
           0.3333333333333333,
           "#9c179e"
          ],
          [
           0.4444444444444444,
           "#bd3786"
          ],
          [
           0.5555555555555556,
           "#d8576b"
          ],
          [
           0.6666666666666666,
           "#ed7953"
          ],
          [
           0.7777777777777778,
           "#fb9f3a"
          ],
          [
           0.8888888888888888,
           "#fdca26"
          ],
          [
           1,
           "#f0f921"
          ]
         ]
        },
        "geo": {
         "center": {},
         "domain": {
          "x": [
           0,
           1
          ],
          "y": [
           0,
           1
          ]
         },
         "projection": {
          "type": "orthographic"
         },
         "resolution": 110,
         "showcountries": true
        },
        "height": 800,
        "legend": {
         "itemsizing": "constant",
         "tracegroupgap": 0
        },
        "margin": {
         "t": 60
        },
        "template": {
         "data": {
          "bar": [
           {
            "error_x": {
             "color": "#2a3f5f"
            },
            "error_y": {
             "color": "#2a3f5f"
            },
            "marker": {
             "line": {
              "color": "#E5ECF6",
              "width": 0.5
             },
             "pattern": {
              "fillmode": "overlay",
              "size": 10,
              "solidity": 0.2
             }
            },
            "type": "bar"
           }
          ],
          "barpolar": [
           {
            "marker": {
             "line": {
              "color": "#E5ECF6",
              "width": 0.5
             },
             "pattern": {
              "fillmode": "overlay",
              "size": 10,
              "solidity": 0.2
             }
            },
            "type": "barpolar"
           }
          ],
          "carpet": [
           {
            "aaxis": {
             "endlinecolor": "#2a3f5f",
             "gridcolor": "white",
             "linecolor": "white",
             "minorgridcolor": "white",
             "startlinecolor": "#2a3f5f"
            },
            "baxis": {
             "endlinecolor": "#2a3f5f",
             "gridcolor": "white",
             "linecolor": "white",
             "minorgridcolor": "white",
             "startlinecolor": "#2a3f5f"
            },
            "type": "carpet"
           }
          ],
          "choropleth": [
           {
            "colorbar": {
             "outlinewidth": 0,
             "ticks": ""
            },
            "type": "choropleth"
           }
          ],
          "contour": [
           {
            "colorbar": {
             "outlinewidth": 0,
             "ticks": ""
            },
            "colorscale": [
             [
              0,
              "#0d0887"
             ],
             [
              0.1111111111111111,
              "#46039f"
             ],
             [
              0.2222222222222222,
              "#7201a8"
             ],
             [
              0.3333333333333333,
              "#9c179e"
             ],
             [
              0.4444444444444444,
              "#bd3786"
             ],
             [
              0.5555555555555556,
              "#d8576b"
             ],
             [
              0.6666666666666666,
              "#ed7953"
             ],
             [
              0.7777777777777778,
              "#fb9f3a"
             ],
             [
              0.8888888888888888,
              "#fdca26"
             ],
             [
              1,
              "#f0f921"
             ]
            ],
            "type": "contour"
           }
          ],
          "contourcarpet": [
           {
            "colorbar": {
             "outlinewidth": 0,
             "ticks": ""
            },
            "type": "contourcarpet"
           }
          ],
          "heatmap": [
           {
            "colorbar": {
             "outlinewidth": 0,
             "ticks": ""
            },
            "colorscale": [
             [
              0,
              "#0d0887"
             ],
             [
              0.1111111111111111,
              "#46039f"
             ],
             [
              0.2222222222222222,
              "#7201a8"
             ],
             [
              0.3333333333333333,
              "#9c179e"
             ],
             [
              0.4444444444444444,
              "#bd3786"
             ],
             [
              0.5555555555555556,
              "#d8576b"
             ],
             [
              0.6666666666666666,
              "#ed7953"
             ],
             [
              0.7777777777777778,
              "#fb9f3a"
             ],
             [
              0.8888888888888888,
              "#fdca26"
             ],
             [
              1,
              "#f0f921"
             ]
            ],
            "type": "heatmap"
           }
          ],
          "heatmapgl": [
           {
            "colorbar": {
             "outlinewidth": 0,
             "ticks": ""
            },
            "colorscale": [
             [
              0,
              "#0d0887"
             ],
             [
              0.1111111111111111,
              "#46039f"
             ],
             [
              0.2222222222222222,
              "#7201a8"
             ],
             [
              0.3333333333333333,
              "#9c179e"
             ],
             [
              0.4444444444444444,
              "#bd3786"
             ],
             [
              0.5555555555555556,
              "#d8576b"
             ],
             [
              0.6666666666666666,
              "#ed7953"
             ],
             [
              0.7777777777777778,
              "#fb9f3a"
             ],
             [
              0.8888888888888888,
              "#fdca26"
             ],
             [
              1,
              "#f0f921"
             ]
            ],
            "type": "heatmapgl"
           }
          ],
          "histogram": [
           {
            "marker": {
             "pattern": {
              "fillmode": "overlay",
              "size": 10,
              "solidity": 0.2
             }
            },
            "type": "histogram"
           }
          ],
          "histogram2d": [
           {
            "colorbar": {
             "outlinewidth": 0,
             "ticks": ""
            },
            "colorscale": [
             [
              0,
              "#0d0887"
             ],
             [
              0.1111111111111111,
              "#46039f"
             ],
             [
              0.2222222222222222,
              "#7201a8"
             ],
             [
              0.3333333333333333,
              "#9c179e"
             ],
             [
              0.4444444444444444,
              "#bd3786"
             ],
             [
              0.5555555555555556,
              "#d8576b"
             ],
             [
              0.6666666666666666,
              "#ed7953"
             ],
             [
              0.7777777777777778,
              "#fb9f3a"
             ],
             [
              0.8888888888888888,
              "#fdca26"
             ],
             [
              1,
              "#f0f921"
             ]
            ],
            "type": "histogram2d"
           }
          ],
          "histogram2dcontour": [
           {
            "colorbar": {
             "outlinewidth": 0,
             "ticks": ""
            },
            "colorscale": [
             [
              0,
              "#0d0887"
             ],
             [
              0.1111111111111111,
              "#46039f"
             ],
             [
              0.2222222222222222,
              "#7201a8"
             ],
             [
              0.3333333333333333,
              "#9c179e"
             ],
             [
              0.4444444444444444,
              "#bd3786"
             ],
             [
              0.5555555555555556,
              "#d8576b"
             ],
             [
              0.6666666666666666,
              "#ed7953"
             ],
             [
              0.7777777777777778,
              "#fb9f3a"
             ],
             [
              0.8888888888888888,
              "#fdca26"
             ],
             [
              1,
              "#f0f921"
             ]
            ],
            "type": "histogram2dcontour"
           }
          ],
          "mesh3d": [
           {
            "colorbar": {
             "outlinewidth": 0,
             "ticks": ""
            },
            "type": "mesh3d"
           }
          ],
          "parcoords": [
           {
            "line": {
             "colorbar": {
              "outlinewidth": 0,
              "ticks": ""
             }
            },
            "type": "parcoords"
           }
          ],
          "pie": [
           {
            "automargin": true,
            "type": "pie"
           }
          ],
          "scatter": [
           {
            "fillpattern": {
             "fillmode": "overlay",
             "size": 10,
             "solidity": 0.2
            },
            "type": "scatter"
           }
          ],
          "scatter3d": [
           {
            "line": {
             "colorbar": {
              "outlinewidth": 0,
              "ticks": ""
             }
            },
            "marker": {
             "colorbar": {
              "outlinewidth": 0,
              "ticks": ""
             }
            },
            "type": "scatter3d"
           }
          ],
          "scattercarpet": [
           {
            "marker": {
             "colorbar": {
              "outlinewidth": 0,
              "ticks": ""
             }
            },
            "type": "scattercarpet"
           }
          ],
          "scattergeo": [
           {
            "marker": {
             "colorbar": {
              "outlinewidth": 0,
              "ticks": ""
             }
            },
            "type": "scattergeo"
           }
          ],
          "scattergl": [
           {
            "marker": {
             "colorbar": {
              "outlinewidth": 0,
              "ticks": ""
             }
            },
            "type": "scattergl"
           }
          ],
          "scattermapbox": [
           {
            "marker": {
             "colorbar": {
              "outlinewidth": 0,
              "ticks": ""
             }
            },
            "type": "scattermapbox"
           }
          ],
          "scatterpolar": [
           {
            "marker": {
             "colorbar": {
              "outlinewidth": 0,
              "ticks": ""
             }
            },
            "type": "scatterpolar"
           }
          ],
          "scatterpolargl": [
           {
            "marker": {
             "colorbar": {
              "outlinewidth": 0,
              "ticks": ""
             }
            },
            "type": "scatterpolargl"
           }
          ],
          "scatterternary": [
           {
            "marker": {
             "colorbar": {
              "outlinewidth": 0,
              "ticks": ""
             }
            },
            "type": "scatterternary"
           }
          ],
          "surface": [
           {
            "colorbar": {
             "outlinewidth": 0,
             "ticks": ""
            },
            "colorscale": [
             [
              0,
              "#0d0887"
             ],
             [
              0.1111111111111111,
              "#46039f"
             ],
             [
              0.2222222222222222,
              "#7201a8"
             ],
             [
              0.3333333333333333,
              "#9c179e"
             ],
             [
              0.4444444444444444,
              "#bd3786"
             ],
             [
              0.5555555555555556,
              "#d8576b"
             ],
             [
              0.6666666666666666,
              "#ed7953"
             ],
             [
              0.7777777777777778,
              "#fb9f3a"
             ],
             [
              0.8888888888888888,
              "#fdca26"
             ],
             [
              1,
              "#f0f921"
             ]
            ],
            "type": "surface"
           }
          ],
          "table": [
           {
            "cells": {
             "fill": {
              "color": "#EBF0F8"
             },
             "line": {
              "color": "white"
             }
            },
            "header": {
             "fill": {
              "color": "#C8D4E3"
             },
             "line": {
              "color": "white"
             }
            },
            "type": "table"
           }
          ]
         },
         "layout": {
          "annotationdefaults": {
           "arrowcolor": "#2a3f5f",
           "arrowhead": 0,
           "arrowwidth": 1
          },
          "autotypenumbers": "strict",
          "coloraxis": {
           "colorbar": {
            "outlinewidth": 0,
            "ticks": ""
           }
          },
          "colorscale": {
           "diverging": [
            [
             0,
             "#8e0152"
            ],
            [
             0.1,
             "#c51b7d"
            ],
            [
             0.2,
             "#de77ae"
            ],
            [
             0.3,
             "#f1b6da"
            ],
            [
             0.4,
             "#fde0ef"
            ],
            [
             0.5,
             "#f7f7f7"
            ],
            [
             0.6,
             "#e6f5d0"
            ],
            [
             0.7,
             "#b8e186"
            ],
            [
             0.8,
             "#7fbc41"
            ],
            [
             0.9,
             "#4d9221"
            ],
            [
             1,
             "#276419"
            ]
           ],
           "sequential": [
            [
             0,
             "#0d0887"
            ],
            [
             0.1111111111111111,
             "#46039f"
            ],
            [
             0.2222222222222222,
             "#7201a8"
            ],
            [
             0.3333333333333333,
             "#9c179e"
            ],
            [
             0.4444444444444444,
             "#bd3786"
            ],
            [
             0.5555555555555556,
             "#d8576b"
            ],
            [
             0.6666666666666666,
             "#ed7953"
            ],
            [
             0.7777777777777778,
             "#fb9f3a"
            ],
            [
             0.8888888888888888,
             "#fdca26"
            ],
            [
             1,
             "#f0f921"
            ]
           ],
           "sequentialminus": [
            [
             0,
             "#0d0887"
            ],
            [
             0.1111111111111111,
             "#46039f"
            ],
            [
             0.2222222222222222,
             "#7201a8"
            ],
            [
             0.3333333333333333,
             "#9c179e"
            ],
            [
             0.4444444444444444,
             "#bd3786"
            ],
            [
             0.5555555555555556,
             "#d8576b"
            ],
            [
             0.6666666666666666,
             "#ed7953"
            ],
            [
             0.7777777777777778,
             "#fb9f3a"
            ],
            [
             0.8888888888888888,
             "#fdca26"
            ],
            [
             1,
             "#f0f921"
            ]
           ]
          },
          "colorway": [
           "#636efa",
           "#EF553B",
           "#00cc96",
           "#ab63fa",
           "#FFA15A",
           "#19d3f3",
           "#FF6692",
           "#B6E880",
           "#FF97FF",
           "#FECB52"
          ],
          "font": {
           "color": "#2a3f5f"
          },
          "geo": {
           "bgcolor": "white",
           "lakecolor": "white",
           "landcolor": "#E5ECF6",
           "showlakes": true,
           "showland": true,
           "subunitcolor": "white"
          },
          "hoverlabel": {
           "align": "left"
          },
          "hovermode": "closest",
          "mapbox": {
           "style": "light"
          },
          "paper_bgcolor": "white",
          "plot_bgcolor": "#E5ECF6",
          "polar": {
           "angularaxis": {
            "gridcolor": "white",
            "linecolor": "white",
            "ticks": ""
           },
           "bgcolor": "#E5ECF6",
           "radialaxis": {
            "gridcolor": "white",
            "linecolor": "white",
            "ticks": ""
           }
          },
          "scene": {
           "xaxis": {
            "backgroundcolor": "#E5ECF6",
            "gridcolor": "white",
            "gridwidth": 2,
            "linecolor": "white",
            "showbackground": true,
            "ticks": "",
            "zerolinecolor": "white"
           },
           "yaxis": {
            "backgroundcolor": "#E5ECF6",
            "gridcolor": "white",
            "gridwidth": 2,
            "linecolor": "white",
            "showbackground": true,
            "ticks": "",
            "zerolinecolor": "white"
           },
           "zaxis": {
            "backgroundcolor": "#E5ECF6",
            "gridcolor": "white",
            "gridwidth": 2,
            "linecolor": "white",
            "showbackground": true,
            "ticks": "",
            "zerolinecolor": "white"
           }
          },
          "shapedefaults": {
           "line": {
            "color": "#2a3f5f"
           }
          },
          "ternary": {
           "aaxis": {
            "gridcolor": "white",
            "linecolor": "white",
            "ticks": ""
           },
           "baxis": {
            "gridcolor": "white",
            "linecolor": "white",
            "ticks": ""
           },
           "bgcolor": "#E5ECF6",
           "caxis": {
            "gridcolor": "white",
            "linecolor": "white",
            "ticks": ""
           }
          },
          "title": {
           "x": 0.05
          },
          "xaxis": {
           "automargin": true,
           "gridcolor": "white",
           "linecolor": "white",
           "ticks": "",
           "title": {
            "standoff": 15
           },
           "zerolinecolor": "white",
           "zerolinewidth": 2
          },
          "yaxis": {
           "automargin": true,
           "gridcolor": "white",
           "linecolor": "white",
           "ticks": "",
           "title": {
            "standoff": 15
           },
           "zerolinecolor": "white",
           "zerolinewidth": 2
          }
         }
        },
        "width": 800
       }
      }
     },
     "metadata": {},
     "output_type": "display_data"
    }
   ],
   "source": [
    "fig = px.scatter_geo(data,\n",
    "                     lat='lat', lon='lon',\n",
    "                     range_color=(4,208),\n",
    "                     height=800, width=800,\n",
    "                     size='mean_thickness', color='mean_thickness',\n",
    "                     hover_name='name',\n",
    "                     hover_data=['name','mean_thickness','area','mean_slope']);\n",
    "fig.update_geos(resolution=110, showcountries=True)\n",
    "fig.update_geos(resolution=110, showcountries=True,projection_type=\"orthographic\")"
   ]
  },
  {
   "cell_type": "markdown",
   "metadata": {},
   "source": [
    "## 3. Correlations between data parameters ( 5 points total)\n",
    "\n",
    "Make plots to vizualise the correlation, or lack of, between all three data. Make at least three plots.\n",
    "\n",
    "### a) Basic correlations using Matplotlib (2 points)\n",
    "\n",
    "Make 3 plots using matplotlib to visualize slope, mean_thickness, and area. Use logscale to see the correlatons.\n",
    "\n",
    "__Tips__: \n",
    "* Use the function ``scatter`` to plot the values of mean thickness, mean slope, area, and latitude. \n",
    "* use one of the dataframe columns as a color using the argument ``c``. You can also vary the ``colormap`` using the argument ``cmap``. Help on colormaps can be found here: https://matplotlib.org/stable/tutorials/colors/colormaps.html. Be mindful of Color-Vision Deficient readers and read *Crameri, F., Shephard, G.E. and Heron, P.J., 2020. The misuse of colour in science communication. Nature communications, 11(1), pp.1-10. https://doi.org/10.1038/s41467-020-19160-7* (find it on the class Gdrive). You can add a third \"data\" by choosing a marker color that scales with an other parameter. For instance, try coloring your marker with the ``LAT`` parameter to look at systematic latitudinal trends from the equator to the poles.\n",
    "* Do not forget to adjust fontsize, figure size (at least 10,8), grid, labels with units. ou may also explore the *logarithmic* correlations by mapping the axis from linear to logarithmic scale ``plt.xscale('log')``."
   ]
  },
  {
   "cell_type": "code",
   "execution_count": null,
   "metadata": {},
   "outputs": [],
   "source": [
    "# Figure 1: Mean slope vs mean thickness\n",
    "# solution"
   ]
  },
  {
   "cell_type": "code",
   "execution_count": null,
   "metadata": {},
   "outputs": [],
   "source": [
    "# Figure 2: area vs mean thickness\n",
    "# solution"
   ]
  },
  {
   "cell_type": "markdown",
   "metadata": {},
   "source": [
    "### b) 3D Scatter plot using Plotly (1 point)\n",
    "\n",
    "Use the plotly ``scatter_3d`` plot. Make sure to change the pandas series for log scales."
   ]
  },
  {
   "cell_type": "code",
   "execution_count": null,
   "metadata": {},
   "outputs": [],
   "source": [
    "# solution"
   ]
  },
  {
   "cell_type": "markdown",
   "metadata": {},
   "source": [
    "### c) Pandas Correlation function (1 point)\n",
    "\n",
    "You may use Pandas functionalities to explore correlation between data. Use the function ``corr`` on the dataframe and the matplotlib function ``matshow`` to plot a heatmap of the correlations"
   ]
  },
  {
   "cell_type": "code",
   "execution_count": null,
   "metadata": {},
   "outputs": [],
   "source": [
    "#solution"
   ]
  },
  {
   "cell_type": "markdown",
   "metadata": {},
   "source": [
    "### f) Seaborn Plotting (1 point)\n",
    "\n",
    "Seaborn is a great python package for basic data anlytics. See documentation [here](!https://seaborn.pydata.org/)."
   ]
  },
  {
   "cell_type": "code",
   "execution_count": null,
   "metadata": {},
   "outputs": [],
   "source": [
    "#solution"
   ]
  },
  {
   "cell_type": "code",
   "execution_count": null,
   "metadata": {},
   "outputs": [],
   "source": [
    "# solution\n",
    "import seaborn as sns\n"
   ]
  },
  {
   "cell_type": "markdown",
   "metadata": {},
   "source": [
    "Discuss the basic correlations among the data. Do these correction make sense when you think about the shapes of glaciers?"
   ]
  },
  {
   "cell_type": "markdown",
   "metadata": {},
   "source": [
    "enter text below\n",
    "\n"
   ]
  },
  {
   "cell_type": "markdown",
   "metadata": {},
   "source": [
    "## 4. Linear Regression (10 points total counted in the next section)\n",
    "You found from basic data visualization that the three parameters ``mean_slope``, ``mean_thickness``, and ``area`` are correlated. It does make physical sense because a *steep* glaciers is likely to be in the high mountains regions, hanging on the mountain walls, and thus be constrained, and conversely, a flat glacier is either at its valley, ocean terminus or on ice sheets.\n",
    "\n",
    "### a) Simple linear regression (2 points)\n",
    "We will now perform a regression between the parameters (or their log!). Linear regressions are models that can be imported from scikit-learn. Log/exp functions in numpy as ``np.log()`` and ``np.exp()``.\n",
    "Remember that a linear regression is finding $a$ and $b$ knowing both $x$ and the data $y$ in $y = Ax +b$. We want to predict ice thickness from a crude estimate of the glacier area.\n",
    "\n",
    "__Tips__: \n",
    "a. make sure that the dimensions are correct and that there is no NaNs and zeros.\n",
    "b. Make sure to inport the scikit learn linear regression function and the error metrics."
   ]
  },
  {
   "cell_type": "code",
   "execution_count": null,
   "metadata": {},
   "outputs": [],
   "source": [
    "# solution\n",
    "from sklearn.linear_model import LinearRegression\n",
    "from sklearn.metrics import mean_squared_error, r2_score\n",
    "\n"
   ]
  },
  {
   "cell_type": "markdown",
   "metadata": {},
   "source": [
    "Make a plot of the data and the linear regression your performed"
   ]
  },
  {
   "cell_type": "code",
   "execution_count": null,
   "metadata": {},
   "outputs": [],
   "source": [
    "# solution"
   ]
  },
  {
   "cell_type": "markdown",
   "metadata": {},
   "source": [
    "**Briefly comment on the quality of your fit and a linear regression (1 point)**"
   ]
  },
  {
   "cell_type": "markdown",
   "metadata": {},
   "source": [
    "The fit looks pretty good, except that there are outliers on the extreme low and high values of mean area."
   ]
  },
  {
   "cell_type": "markdown",
   "metadata": {},
   "source": [
    "### b) Leave One Out Cross Validation linear regression (1 point)\n",
    "\n",
    "\n",
    "Perform the LOCCV on the ``area`` and ``thickness`` values. Predict the ``thickness`` value knowing a ``area`` value. Use material seen in class. Make a plot of your fit."
   ]
  },
  {
   "cell_type": "code",
   "execution_count": null,
   "metadata": {},
   "outputs": [],
   "source": [
    "from sklearn.model_selection import LeaveOneOut\n",
    "# solution\n",
    "loo = LeaveOneOut()"
   ]
  },
  {
   "cell_type": "markdown",
   "metadata": {},
   "source": [
    "### c) Bootstrapping (1 point)\n",
    "\n",
    "Perform the same analysis but using a bootstrapping technique. Output the mean and standard deviation of the slope. An illustration with a histogram  may help."
   ]
  },
  {
   "cell_type": "code",
   "execution_count": null,
   "metadata": {},
   "outputs": [],
   "source": [
    "from sklearn.utils import resample\n",
    "# solution\n",
    "\n",
    "k=100\n"
   ]
  },
  {
   "cell_type": "markdown",
   "metadata": {},
   "source": [
    "### d) Predict the thickness of a glacier (2 points)\n",
    "\n",
    "Let assume that you measure a glacier of area 10 km$^2$. Can you use your bootstrap regression framework to provide a distribution of possible values of the ice thickness ? Output the mean and standard deviation of the predicted ice thickness."
   ]
  },
  {
   "cell_type": "code",
   "execution_count": null,
   "metadata": {},
   "outputs": [],
   "source": [
    "# solution\n",
    "k=100"
   ]
  }
 ],
 "metadata": {
  "kernelspec": {
   "display_name": "Python 3.9.13 ('base')",
   "language": "python",
   "name": "python3"
  },
  "language_info": {
   "codemirror_mode": {
    "name": "ipython",
    "version": 3
   },
   "file_extension": ".py",
   "mimetype": "text/x-python",
   "name": "python",
   "nbconvert_exporter": "python",
   "pygments_lexer": "ipython3",
   "version": "3.9.13"
  },
  "orig_nbformat": 4,
  "vscode": {
   "interpreter": {
    "hash": "88279d2366fe020547cde40dd65aa0e3aa662a6ec1f3ca12d88834876c85e1a6"
   }
  }
 },
 "nbformat": 4,
 "nbformat_minor": 2
}
