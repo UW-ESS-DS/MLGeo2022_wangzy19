{
 "cells": [
  {
   "cell_type": "markdown",
   "metadata": {},
   "source": [
    "Import modules"
   ]
  },
  {
   "cell_type": "code",
   "execution_count": null,
   "metadata": {},
   "outputs": [],
   "source": [
    "import numpy as np\n",
    "import pandas as pd\n",
    "import matplotlib.pyplot as plt"
   ]
  },
  {
   "cell_type": "markdown",
   "metadata": {},
   "source": [
    "Define some variables and print"
   ]
  },
  {
   "cell_type": "code",
   "execution_count": null,
   "metadata": {},
   "outputs": [],
   "source": [
    "N=100\n",
    "x_int = np.arange(N)\n",
    "print(x_int)"
   ]
  },
  {
   "cell_type": "markdown",
   "metadata": {},
   "source": [
    "Declare list and NumPy arrays"
   ]
  },
  {
   "cell_type": "code",
   "execution_count": null,
   "metadata": {},
   "outputs": [],
   "source": [
    "list_example = [1, 3, 5, 7, 9]\n",
    "print(list_example)\n",
    "print(type(list_example))\n",
    "array_example = np.array(list_example)\n",
    "print(array_example)\n",
    "print(type(array_example))"
   ]
  },
  {
   "cell_type": "markdown",
   "metadata": {},
   "source": [
    "Define a function to transfer meter to kilometer"
   ]
  },
  {
   "cell_type": "code",
   "execution_count": null,
   "metadata": {},
   "outputs": [],
   "source": [
    "def m_To_km(meter):\n",
    "    kilometer = meter * 1000\n",
    "    return kilometer\n",
    "\n",
    "m_To_km(56)\n"
   ]
  },
  {
   "cell_type": "markdown",
   "metadata": {},
   "source": [
    "Make simple Matplotlib"
   ]
  },
  {
   "cell_type": "code",
   "execution_count": null,
   "metadata": {},
   "outputs": [],
   "source": [
    "x_axis = [1,2,3,4,5,6,7,8,9]\n",
    "y_axis1 = [10, 20, 30, 40, 50, 40, 30, 20, 10]\n",
    "y_axis2 = [10, 40, 20, 50, 20, 50, 60, 110, 30]\n",
    "\n",
    "fig = plt.figure(figsize=(10.0, 3.0))\n",
    "axes1 = fig.add_subplot(1, 2, 1)\n",
    "axes2 = fig.add_subplot(1, 2, 2)\n",
    "\n",
    "axes1.plot(x_axis, y_axis1)\n",
    "axes2.plot(x_axis, y_axis2)\n"
   ]
  }
 ],
 "metadata": {
  "kernelspec": {
   "display_name": "Python 3.9.12 ('base')",
   "language": "python",
   "name": "python3"
  },
  "language_info": {
   "codemirror_mode": {
    "name": "ipython",
    "version": 3
   },
   "file_extension": ".py",
   "mimetype": "text/x-python",
   "name": "python",
   "nbconvert_exporter": "python",
   "pygments_lexer": "ipython3",
   "version": "3.9.12"
  },
  "orig_nbformat": 4,
  "vscode": {
   "interpreter": {
    "hash": "a1ce61e7449c7842a48b12a23d5a0497c1ef9e1ab85d0b68e3982780f1d49846"
   }
  }
 },
 "nbformat": 4,
 "nbformat_minor": 2
}
